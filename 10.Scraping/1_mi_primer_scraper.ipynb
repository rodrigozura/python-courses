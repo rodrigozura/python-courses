{
 "cells": [
  {
   "cell_type": "code",
   "execution_count": 38,
   "id": "6dcf1ca8",
   "metadata": {},
   "outputs": [],
   "source": [
    "# !pip3 install requests\n",
    "# !pip3 install beautifulsoup4"
   ]
  },
  {
   "cell_type": "markdown",
   "id": "04543876",
   "metadata": {},
   "source": [
    "#Hacer peticiones HTTP"
   ]
  },
  {
   "cell_type": "code",
   "execution_count": 39,
   "id": "2ed0cebb",
   "metadata": {},
   "outputs": [],
   "source": [
    "import requests\n",
    "from bs4 import BeautifulSoup\n",
    "\n",
    "url = 'http://books.toscrape.com/'"
   ]
  },
  {
   "cell_type": "code",
   "execution_count": 40,
   "id": "81456e97",
   "metadata": {},
   "outputs": [],
   "source": [
    "# Realizar la peticion a la URL\n",
    "response = requests.get(url)\n",
    "# Verificar el código de estado de la respuesta\n",
    "# print(response.text)"
   ]
  },
  {
   "cell_type": "code",
   "execution_count": 44,
   "id": "511c6eeb",
   "metadata": {},
   "outputs": [
    {
     "name": "stdout",
     "output_type": "stream",
     "text": [
      "All products | Books to Scrape - Sandbox\n",
      "Books to ScrapeWe love being scraped!\n"
     ]
    }
   ],
   "source": [
    "# if response.status_code == 200:\n",
    "#     print(\"La solicitud fue exitosa.\")\n",
    "#     print(response.text[0:15])\n",
    "\n",
    "# else: \n",
    "#     print(\"La solicitud no fue exitosa.\")\n",
    "#     print(f\"El código de estado es {response.status_code}\")\n",
    "#     print(f\"La respuesta es {response.text}\")\n",
    "soup = BeautifulSoup(response.text, 'html.parser')\n",
    "# print(soup)\n",
    "head = soup.find('title')\n",
    "print(head.get_text(strip=True))\n",
    "\n",
    "titulo = soup.find('div', class_='col-sm-8 h1')\n",
    "print(titulo.get_text(strip=True))"
   ]
  }
 ],
 "metadata": {
  "kernelspec": {
   "display_name": "base",
   "language": "python",
   "name": "python3"
  },
  "language_info": {
   "codemirror_mode": {
    "name": "ipython",
    "version": 3
   },
   "file_extension": ".py",
   "mimetype": "text/x-python",
   "name": "python",
   "nbconvert_exporter": "python",
   "pygments_lexer": "ipython3",
   "version": "3.12.3"
  }
 },
 "nbformat": 4,
 "nbformat_minor": 5
}
